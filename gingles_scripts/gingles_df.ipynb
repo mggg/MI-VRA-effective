{
 "cells": [
  {
   "cell_type": "code",
   "execution_count": 1,
   "metadata": {},
   "outputs": [],
   "source": [
    "import pandas as pd\n",
    "from pathlib import Path\n",
    "import csv\n",
    "from tqdm import tqdm\n",
    "from gerrychain import Graph, Partition\n",
    "import json\n",
    "import geopandas as gpd\n",
    "import numpy as np\n",
    "from pcompress import Replay\n",
    "import matplotlib.pyplot as plt\n",
    "import networkx as nx\n",
    "\n",
    "\n",
    "DUAL_GRAPH_DIR = \"dual_graphs\"\n",
    "STATE_SPECS_DIR = \"state_specifications\"\n",
    "CHAIN_DIR = \"raw_chains\"\n",
    "STATS_DIR = \"ensemble_stats\""
   ]
  },
  {
   "cell_type": "code",
   "execution_count": 2,
   "metadata": {},
   "outputs": [],
   "source": [
    "directory_name = \"../Michigan_gingles/gingles_scores/100000\"\n",
    "directory = Path(directory_name)\n",
    "plan_types =[\"state_house\",\"state_senate\"]"
   ]
  },
  {
   "cell_type": "code",
   "execution_count": 3,
   "metadata": {},
   "outputs": [
    {
     "name": "stdout",
     "output_type": "stream",
     "text": [
      "step 0\n",
      "step 500\n",
      "step 1000\n",
      "step 1500\n",
      "step 2000\n",
      "step 2500\n"
     ]
    }
   ],
   "source": [
    "df_dict = {\"state_house\":{\"index\": [], \"max_score\":[], \"max_score_plan_number\":[]},\n",
    "        \"state_senate\":{\"index\": [], \"max_score\":[], \"max_score_plan_number\":[]}}\n",
    "\n",
    "for j, filepath in enumerate(directory.iterdir()):\n",
    "    if j%500 == 0:\n",
    "        print(\"step\", j)\n",
    "    if filepath.is_file():\n",
    "        file_name = filepath.name\n",
    "        plan_type, method = file_name.split(\"steps_\")\n",
    "        plan_type = plan_type.split(\"_0.05\")[0].split(\"michigan_\")[-1]\n",
    "        method = method.split(\".csv\")[0]\n",
    "        df_dict[plan_type][\"index\"].append(method)\n",
    "        \n",
    "        with open(filepath, mode='r') as f:\n",
    "            csv_reader = csv.reader(f)\n",
    "            \n",
    "            for i, row in enumerate(csv_reader):\n",
    "                if i == 1:\n",
    "                    max_score, max_index = row\n",
    "                    df_dict[plan_type][\"max_score\"].append(float(max_score))\n",
    "                    df_dict[plan_type][\"max_score_plan_number\"].append(int(max_index))\n",
    "    \n",
    "    "
   ]
  },
  {
   "cell_type": "code",
   "execution_count": 4,
   "metadata": {},
   "outputs": [],
   "source": [
    "dfs = {plan_type:pd.DataFrame.from_dict(df_dict[plan_type]) for plan_type in [\"state_house\",\"state_senate\"]}"
   ]
  },
  {
   "cell_type": "code",
   "execution_count": 7,
   "metadata": {},
   "outputs": [
    {
     "data": {
      "text/html": [
       "<div>\n",
       "<style scoped>\n",
       "    .dataframe tbody tr th:only-of-type {\n",
       "        vertical-align: middle;\n",
       "    }\n",
       "\n",
       "    .dataframe tbody tr th {\n",
       "        vertical-align: top;\n",
       "    }\n",
       "\n",
       "    .dataframe thead th {\n",
       "        text-align: right;\n",
       "    }\n",
       "</style>\n",
       "<table border=\"1\" class=\"dataframe\">\n",
       "  <thead>\n",
       "    <tr style=\"text-align: right;\">\n",
       "      <th></th>\n",
       "      <th>index</th>\n",
       "      <th>max_score</th>\n",
       "      <th>max_score_plan_number</th>\n",
       "    </tr>\n",
       "  </thead>\n",
       "  <tbody>\n",
       "    <tr>\n",
       "      <th>0</th>\n",
       "      <td>cw_0.0_csw_0.0_opt_burst_10</td>\n",
       "      <td>14.474667</td>\n",
       "      <td>99995</td>\n",
       "    </tr>\n",
       "    <tr>\n",
       "      <th>1</th>\n",
       "      <td>cw_0.0_csw_0.0_opt_burst_1000_tilt10.0</td>\n",
       "      <td>12.441559</td>\n",
       "      <td>99001</td>\n",
       "    </tr>\n",
       "    <tr>\n",
       "      <th>2</th>\n",
       "      <td>cw_0.0_csw_0.0_opt_burst_1000_tilt100.0</td>\n",
       "      <td>12.441559</td>\n",
       "      <td>99001</td>\n",
       "    </tr>\n",
       "    <tr>\n",
       "      <th>3</th>\n",
       "      <td>cw_0.0_csw_0.0_opt_burst_1000_tilt1000.0</td>\n",
       "      <td>12.441559</td>\n",
       "      <td>99001</td>\n",
       "    </tr>\n",
       "    <tr>\n",
       "      <th>4</th>\n",
       "      <td>cw_0.0_csw_0.0_opt_burst_1000_tilt500.0</td>\n",
       "      <td>12.441559</td>\n",
       "      <td>99001</td>\n",
       "    </tr>\n",
       "  </tbody>\n",
       "</table>\n",
       "</div>"
      ],
      "text/plain": [
       "                                      index  max_score  max_score_plan_number\n",
       "0               cw_0.0_csw_0.0_opt_burst_10  14.474667                  99995\n",
       "1    cw_0.0_csw_0.0_opt_burst_1000_tilt10.0  12.441559                  99001\n",
       "2   cw_0.0_csw_0.0_opt_burst_1000_tilt100.0  12.441559                  99001\n",
       "3  cw_0.0_csw_0.0_opt_burst_1000_tilt1000.0  12.441559                  99001\n",
       "4   cw_0.0_csw_0.0_opt_burst_1000_tilt500.0  12.441559                  99001"
      ]
     },
     "execution_count": 7,
     "metadata": {},
     "output_type": "execute_result"
    }
   ],
   "source": [
    "dfs[\"state_house\"].head()"
   ]
  },
  {
   "cell_type": "code",
   "execution_count": 5,
   "metadata": {},
   "outputs": [
    {
     "data": {
      "text/html": [
       "<div>\n",
       "<style scoped>\n",
       "    .dataframe tbody tr th:only-of-type {\n",
       "        vertical-align: middle;\n",
       "    }\n",
       "\n",
       "    .dataframe tbody tr th {\n",
       "        vertical-align: top;\n",
       "    }\n",
       "\n",
       "    .dataframe thead th {\n",
       "        text-align: right;\n",
       "    }\n",
       "</style>\n",
       "<table border=\"1\" class=\"dataframe\">\n",
       "  <thead>\n",
       "    <tr style=\"text-align: right;\">\n",
       "      <th></th>\n",
       "      <th>index</th>\n",
       "      <th>max_score</th>\n",
       "      <th>max_score_plan_number</th>\n",
       "    </tr>\n",
       "  </thead>\n",
       "  <tbody>\n",
       "    <tr>\n",
       "      <th>67</th>\n",
       "      <td>cw_0.0_csw_0.25_opt_burst_10_tilt0.001</td>\n",
       "      <td>16.364637</td>\n",
       "      <td>99999</td>\n",
       "    </tr>\n",
       "    <tr>\n",
       "      <th>380</th>\n",
       "      <td>cw_0.25_csw_0.25_opt_tilt_0.0001</td>\n",
       "      <td>16.302748</td>\n",
       "      <td>99999</td>\n",
       "    </tr>\n",
       "    <tr>\n",
       "      <th>865</th>\n",
       "      <td>cw_0.75_csw_0.0_opt_burst_6</td>\n",
       "      <td>16.279006</td>\n",
       "      <td>99995</td>\n",
       "    </tr>\n",
       "    <tr>\n",
       "      <th>356</th>\n",
       "      <td>cw_0.25_csw_0.25_opt_burst_14_tilt0.0001</td>\n",
       "      <td>15.466393</td>\n",
       "      <td>99987</td>\n",
       "    </tr>\n",
       "    <tr>\n",
       "      <th>341</th>\n",
       "      <td>cw_0.25_csw_0.25_opt_burst_10_tilt0.0001</td>\n",
       "      <td>15.462252</td>\n",
       "      <td>99999</td>\n",
       "    </tr>\n",
       "    <tr>\n",
       "      <th>351</th>\n",
       "      <td>cw_0.25_csw_0.25_opt_burst_12_tilt0.0001</td>\n",
       "      <td>15.462252</td>\n",
       "      <td>99995</td>\n",
       "    </tr>\n",
       "    <tr>\n",
       "      <th>875</th>\n",
       "      <td>cw_0.75_csw_0.0_opt_tilt_0.0001</td>\n",
       "      <td>15.449999</td>\n",
       "      <td>99999</td>\n",
       "    </tr>\n",
       "    <tr>\n",
       "      <th>851</th>\n",
       "      <td>cw_0.75_csw_0.0_opt_burst_14_tilt0.0001</td>\n",
       "      <td>15.447243</td>\n",
       "      <td>99987</td>\n",
       "    </tr>\n",
       "    <tr>\n",
       "      <th>846</th>\n",
       "      <td>cw_0.75_csw_0.0_opt_burst_12_tilt0.0001</td>\n",
       "      <td>15.447243</td>\n",
       "      <td>99995</td>\n",
       "    </tr>\n",
       "    <tr>\n",
       "      <th>836</th>\n",
       "      <td>cw_0.75_csw_0.0_opt_burst_10_tilt0.0001</td>\n",
       "      <td>15.447243</td>\n",
       "      <td>99999</td>\n",
       "    </tr>\n",
       "  </tbody>\n",
       "</table>\n",
       "</div>"
      ],
      "text/plain": [
       "                                        index  max_score  \\\n",
       "67     cw_0.0_csw_0.25_opt_burst_10_tilt0.001  16.364637   \n",
       "380          cw_0.25_csw_0.25_opt_tilt_0.0001  16.302748   \n",
       "865               cw_0.75_csw_0.0_opt_burst_6  16.279006   \n",
       "356  cw_0.25_csw_0.25_opt_burst_14_tilt0.0001  15.466393   \n",
       "341  cw_0.25_csw_0.25_opt_burst_10_tilt0.0001  15.462252   \n",
       "351  cw_0.25_csw_0.25_opt_burst_12_tilt0.0001  15.462252   \n",
       "875           cw_0.75_csw_0.0_opt_tilt_0.0001  15.449999   \n",
       "851   cw_0.75_csw_0.0_opt_burst_14_tilt0.0001  15.447243   \n",
       "846   cw_0.75_csw_0.0_opt_burst_12_tilt0.0001  15.447243   \n",
       "836   cw_0.75_csw_0.0_opt_burst_10_tilt0.0001  15.447243   \n",
       "\n",
       "     max_score_plan_number  \n",
       "67                   99999  \n",
       "380                  99999  \n",
       "865                  99995  \n",
       "356                  99987  \n",
       "341                  99999  \n",
       "351                  99995  \n",
       "875                  99999  \n",
       "851                  99987  \n",
       "846                  99995  \n",
       "836                  99999  "
      ]
     },
     "execution_count": 5,
     "metadata": {},
     "output_type": "execute_result"
    }
   ],
   "source": [
    "dfs[\"state_house\"].sort_values(by = \"max_score\", ascending = False, inplace = True)\n",
    "dfs[\"state_house\"].head(10)"
   ]
  },
  {
   "cell_type": "code",
   "execution_count": 6,
   "metadata": {},
   "outputs": [
    {
     "data": {
      "text/html": [
       "<div>\n",
       "<style scoped>\n",
       "    .dataframe tbody tr th:only-of-type {\n",
       "        vertical-align: middle;\n",
       "    }\n",
       "\n",
       "    .dataframe tbody tr th {\n",
       "        vertical-align: top;\n",
       "    }\n",
       "\n",
       "    .dataframe thead th {\n",
       "        text-align: right;\n",
       "    }\n",
       "</style>\n",
       "<table border=\"1\" class=\"dataframe\">\n",
       "  <thead>\n",
       "    <tr style=\"text-align: right;\">\n",
       "      <th></th>\n",
       "      <th>index</th>\n",
       "      <th>max_score</th>\n",
       "      <th>max_score_plan_number</th>\n",
       "    </tr>\n",
       "  </thead>\n",
       "  <tbody>\n",
       "    <tr>\n",
       "      <th>77</th>\n",
       "      <td>cw_0.0_csw_0.25_opt_burst_12_tilt0.001</td>\n",
       "      <td>6.361732</td>\n",
       "      <td>99995</td>\n",
       "    </tr>\n",
       "    <tr>\n",
       "      <th>67</th>\n",
       "      <td>cw_0.0_csw_0.25_opt_burst_10_tilt0.001</td>\n",
       "      <td>6.360922</td>\n",
       "      <td>99999</td>\n",
       "    </tr>\n",
       "    <tr>\n",
       "      <th>299</th>\n",
       "      <td>cw_0.25_csw_0.0_opt_burst_12_tilt0.1</td>\n",
       "      <td>6.329784</td>\n",
       "      <td>99995</td>\n",
       "    </tr>\n",
       "    <tr>\n",
       "      <th>652</th>\n",
       "      <td>cw_0.5_csw_0.25_opt_burst_8_tilt0.001</td>\n",
       "      <td>6.327946</td>\n",
       "      <td>99999</td>\n",
       "    </tr>\n",
       "    <tr>\n",
       "      <th>651</th>\n",
       "      <td>cw_0.5_csw_0.25_opt_burst_8_tilt0.0001</td>\n",
       "      <td>6.318877</td>\n",
       "      <td>99999</td>\n",
       "    </tr>\n",
       "    <tr>\n",
       "      <th>646</th>\n",
       "      <td>cw_0.5_csw_0.25_opt_burst_6_tilt0.0001</td>\n",
       "      <td>6.282853</td>\n",
       "      <td>99995</td>\n",
       "    </tr>\n",
       "    <tr>\n",
       "      <th>647</th>\n",
       "      <td>cw_0.5_csw_0.25_opt_burst_6_tilt0.001</td>\n",
       "      <td>5.499646</td>\n",
       "      <td>99995</td>\n",
       "    </tr>\n",
       "    <tr>\n",
       "      <th>616</th>\n",
       "      <td>cw_0.5_csw_0.25_opt_burst_10_tilt0.0001</td>\n",
       "      <td>5.497350</td>\n",
       "      <td>99999</td>\n",
       "    </tr>\n",
       "    <tr>\n",
       "      <th>627</th>\n",
       "      <td>cw_0.5_csw_0.25_opt_burst_12_tilt0.001</td>\n",
       "      <td>5.495416</td>\n",
       "      <td>99995</td>\n",
       "    </tr>\n",
       "    <tr>\n",
       "      <th>80</th>\n",
       "      <td>cw_0.0_csw_0.25_opt_burst_14</td>\n",
       "      <td>5.491043</td>\n",
       "      <td>99974</td>\n",
       "    </tr>\n",
       "  </tbody>\n",
       "</table>\n",
       "</div>"
      ],
      "text/plain": [
       "                                       index  max_score  max_score_plan_number\n",
       "77    cw_0.0_csw_0.25_opt_burst_12_tilt0.001   6.361732                  99995\n",
       "67    cw_0.0_csw_0.25_opt_burst_10_tilt0.001   6.360922                  99999\n",
       "299     cw_0.25_csw_0.0_opt_burst_12_tilt0.1   6.329784                  99995\n",
       "652    cw_0.5_csw_0.25_opt_burst_8_tilt0.001   6.327946                  99999\n",
       "651   cw_0.5_csw_0.25_opt_burst_8_tilt0.0001   6.318877                  99999\n",
       "646   cw_0.5_csw_0.25_opt_burst_6_tilt0.0001   6.282853                  99995\n",
       "647    cw_0.5_csw_0.25_opt_burst_6_tilt0.001   5.499646                  99995\n",
       "616  cw_0.5_csw_0.25_opt_burst_10_tilt0.0001   5.497350                  99999\n",
       "627   cw_0.5_csw_0.25_opt_burst_12_tilt0.001   5.495416                  99995\n",
       "80              cw_0.0_csw_0.25_opt_burst_14   5.491043                  99974"
      ]
     },
     "execution_count": 6,
     "metadata": {},
     "output_type": "execute_result"
    }
   ],
   "source": [
    "dfs[\"state_senate\"].sort_values(by = \"max_score\", ascending = False, inplace = True)\n",
    "dfs[\"state_senate\"].head(10)"
   ]
  },
  {
   "cell_type": "markdown",
   "metadata": {},
   "source": [
    "# Computing Cut Edges"
   ]
  },
  {
   "cell_type": "code",
   "execution_count": 16,
   "metadata": {},
   "outputs": [
    {
     "name": "stderr",
     "output_type": "stream",
     "text": [
      "/cluster/tufts/hpc/tools/anaconda/202111/lib/python3.9/subprocess.py:1052: ResourceWarning: subprocess 8735 is still running\n",
      "  _warn(\"subprocess %s is still running\" % self.pid,\n",
      "ResourceWarning: Enable tracemalloc to get the object allocation traceback\n",
      "/tmp/ipykernel_65649/2657758855.py:11: ResourceWarning: unclosed file <_io.BufferedReader name=58>\n",
      "  plan_generator = Replay(graph, chain_file)\n",
      "ResourceWarning: Enable tracemalloc to get the object allocation traceback\n"
     ]
    },
    {
     "name": "stdout",
     "output_type": "stream",
     "text": [
      "2491\n"
     ]
    }
   ],
   "source": [
    "state=\"Michigan\"\n",
    "index =99999\n",
    "chain_file = \"../Michigan_gingles/raw_chains/100000/michigan_state_house_0.05_bal_100000_steps_cw_0.0_csw_0.25_opt_burst_10_tilt0.001.chain\"\n",
    "with open(\"{}/{}.json\".format(\"../\"+STATE_SPECS_DIR, state)) as fin:\n",
    "    state_specification = json.load(fin)\n",
    "\n",
    "dual_graph_file = f\"../dual_graphs/{state_specification['dual_graph'][plan_type]}\"\n",
    "graph = Graph.from_json(dual_graph_file)\n",
    "\n",
    "\n",
    "plan_generator = Replay(graph, chain_file)\n",
    "\n",
    "for i,plan in enumerate(plan_generator):\n",
    "    if i==index:\n",
    "        print(len(plan['cut_edges']))\n",
    "        dass=[(\"GEOID20\",\"assignment\")]+[(graph.nodes[n][\"GEOID20\"],d) for n,d in plan.assignment.items()]\n",
    "        import csv\n",
    "        \n",
    "        file_path = '../Michigan/proposed_plans/vtd_level/state_house/Gingles.csv'\n",
    "\n",
    "        # Writing to CSV\n",
    "        with open(file_path, 'w', newline='') as csvfile:\n",
    "            csv_writer = csv.writer(csvfile)\n",
    "            csv_writer.writerows(dass)\n",
    "\n"
   ]
  },
  {
   "cell_type": "code",
   "execution_count": 18,
   "metadata": {},
   "outputs": [
    {
     "name": "stderr",
     "output_type": "stream",
     "text": [
      "/tmp/ipykernel_65649/770701627.py:9: ResourceWarning: unclosed file <_io.BufferedReader name=58>\n",
      "  plan_generator = Replay(graph, chain_file)\n",
      "ResourceWarning: Enable tracemalloc to get the object allocation traceback\n"
     ]
    },
    {
     "name": "stdout",
     "output_type": "stream",
     "text": [
      "1571\n"
     ]
    }
   ],
   "source": [
    "\n",
    "index =99995\n",
    "chain_file=\"../Michigan_gingles/raw_chains/100000/michigan_state_senate_0.05_bal_100000_steps_cw_0.0_csw_0.25_opt_burst_12_tilt0.001.chain\"\n",
    "with open(\"{}/{}.json\".format(\"../\"+STATE_SPECS_DIR, state)) as fin:\n",
    "    state_specification = json.load(fin)\n",
    "\n",
    "dual_graph_file = f\"../dual_graphs/{state_specification['dual_graph'][plan_type]}\"\n",
    "graph = Graph.from_json(dual_graph_file)\n",
    "\n",
    "plan_generator = Replay(graph, chain_file)\n",
    "\n",
    "for i,plan in enumerate(plan_generator):\n",
    "    if i==index:\n",
    "        print(len(plan['cut_edges']))\n",
    "        dass=[(\"GEOID20\",\"assignment\")]+[(graph.nodes[n][\"GEOID20\"],d) for n,d in plan.assignment.items()]\n",
    "        \n",
    "        file_path = '../Michigan/proposed_plans/vtd_level/state_senate/Gingles.csv'\n",
    "\n",
    "        # Writing to CSV\n",
    "        with open(file_path, 'w', newline='') as csvfile:\n",
    "            csv_writer = csv.writer(csvfile)\n",
    "            csv_writer.writerows(dass)\n"
   ]
  },
  {
   "cell_type": "markdown",
   "metadata": {},
   "source": [
    "# Plotting high scores"
   ]
  },
  {
   "cell_type": "code",
   "execution_count": 16,
   "metadata": {},
   "outputs": [],
   "source": [
    "state_vtds = gpd.read_file(f\"../shapefiles/vtds/mi_pl2020_vtd.shp\")    "
   ]
  },
  {
   "cell_type": "code",
   "execution_count": 8,
   "metadata": {},
   "outputs": [],
   "source": [
    "with open(\"{}/{}.json\".format(\"../state_specifications\", \"Michigan\")) as fin:\n",
    "        state_specification = json.load(fin)\n",
    "dual_graph_file = f\"../dual_graphs/{state_specification['dual_graph']['state_house']}\"\n",
    "graph = Graph.from_json(dual_graph_file)\n",
    "\n",
    "new_index = {}\n",
    "for node,data in graph.nodes(data= True):\n",
    "    new_index[data[\"GEOID20\"]] = node\n",
    "    \n",
    "graph_index = []\n",
    "\n",
    "for geo_id in state_vtds[\"GEOID20\"]:\n",
    "    graph_index.append(new_index.get(geo_id, None))\n",
    "\n",
    "state_vtds[\"graph_index\"] = graph_index\n",
    "state_vtds = state_vtds.dropna(subset=['graph_index'])\n",
    "state_vtds.set_index(\"graph_index\", inplace =True)\n",
    "state_vtds.set_index(state_vtds.index.astype(int), inplace =True)"
   ]
  },
  {
   "cell_type": "code",
   "execution_count": 11,
   "metadata": {},
   "outputs": [
    {
     "name": "stderr",
     "output_type": "stream",
     "text": [
      "/cluster/tufts/hpc/tools/anaconda/202111/lib/python3.9/subprocess.py:1052: ResourceWarning: subprocess 26310 is still running\n",
      "  _warn(\"subprocess %s is still running\" % self.pid,\n",
      "ResourceWarning: Enable tracemalloc to get the object allocation traceback\n",
      "/tmp/ipykernel_22948/779784601.py:11: ResourceWarning: unclosed file <_io.BufferedReader name=59>\n",
      "  plan_generator = Replay(graph, file_name)\n",
      "ResourceWarning: Enable tracemalloc to get the object allocation traceback\n",
      "/cluster/tufts/hpc/tools/anaconda/202111/lib/python3.9/subprocess.py:1052: ResourceWarning: subprocess 26880 is still running\n",
      "  _warn(\"subprocess %s is still running\" % self.pid,\n",
      "ResourceWarning: Enable tracemalloc to get the object allocation traceback\n",
      "/tmp/ipykernel_22948/779784601.py:11: ResourceWarning: unclosed file <_io.BufferedReader name=61>\n",
      "  plan_generator = Replay(graph, file_name)\n",
      "ResourceWarning: Enable tracemalloc to get the object allocation traceback\n"
     ]
    },
    {
     "data": {
      "text/plain": [
       "<Figure size 640x480 with 0 Axes>"
      ]
     },
     "metadata": {},
     "output_type": "display_data"
    },
    {
     "data": {
      "text/plain": [
       "<Figure size 640x480 with 0 Axes>"
      ]
     },
     "metadata": {},
     "output_type": "display_data"
    }
   ],
   "source": [
    "for plan_type in plan_types:\n",
    "    with open(\"{}/{}.json\".format(\"../state_specifications\", \"Michigan\")) as fin:\n",
    "        state_specification = json.load(fin)\n",
    "    dual_graph_file = f\"../dual_graphs/{state_specification['dual_graph'][plan_type]}\"\n",
    "    graph = Graph.from_json(dual_graph_file)\n",
    "\n",
    "    for row in range(1):\n",
    "        file_post, score, index = dfs[plan_type].iloc[row]\n",
    "        \n",
    "        file_name = f\"../Michigan_gingles/raw_chains/100000/michigan_{plan_type}_0.05_bal_100000_steps_{file_post}.chain\"\n",
    "        plan_generator = Replay(graph, file_name)\n",
    "\n",
    "        for i, partition in enumerate(plan_generator):\n",
    "            if i == index:\n",
    "                partition.plot(geometries=state_vtds, cmap=\"tab20\")\n",
    "                plt.title(f\"{plan_type.capitalize()} Gingles Optimized\")\n",
    "                # plt.show()\n",
    "                plt.axis('off')\n",
    "                plt.tight_layout()\n",
    "                plt.savefig(f\"figures/{plan_type}_gingles_optimized.pdf\")\n",
    "                plt.clf()\n",
    "                break\n",
    "\n"
   ]
  }
 ],
 "metadata": {
  "kernelspec": {
   "display_name": ".gingles_venv",
   "language": "python",
   "name": "python3"
  },
  "language_info": {
   "codemirror_mode": {
    "name": "ipython",
    "version": 3
   },
   "file_extension": ".py",
   "mimetype": "text/x-python",
   "name": "python",
   "nbconvert_exporter": "python",
   "pygments_lexer": "ipython3",
   "version": "3.9.7"
  }
 },
 "nbformat": 4,
 "nbformat_minor": 2
}
